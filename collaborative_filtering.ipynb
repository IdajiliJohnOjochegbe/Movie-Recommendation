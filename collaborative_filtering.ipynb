{
  "cells": [
    {
      "cell_type": "markdown",
      "metadata": {
        "id": "view-in-github",
        "colab_type": "text"
      },
      "source": [
        "<a href=\"https://colab.research.google.com/github/IdajiliJohnOjochegbe/Movie-Recommendation/blob/main/collaborative_filtering.ipynb\" target=\"_parent\"><img src=\"https://colab.research.google.com/assets/colab-badge.svg\" alt=\"Open In Colab\"/></a>"
      ]
    },
    {
      "cell_type": "code",
      "execution_count": 1,
      "metadata": {
        "colab": {
          "base_uri": "https://localhost:8080/"
        },
        "id": "ogWJ1rqL2Jbp",
        "outputId": "2dfc2e5b-a12e-44ff-fcda-fcbc1591f76d"
      },
      "outputs": [
        {
          "output_type": "stream",
          "name": "stdout",
          "text": [
            "Drive already mounted at /content/drive; to attempt to forcibly remount, call drive.mount(\"/content/drive\", force_remount=True).\n"
          ]
        }
      ],
      "source": [
        "from google.colab import drive\n",
        "drive.mount('/content/drive')"
      ]
    },
    {
      "cell_type": "markdown",
      "source": [
        "installing scikit-surprise"
      ],
      "metadata": {
        "id": "le1PlHB-Rlr6"
      }
    },
    {
      "cell_type": "markdown",
      "source": [],
      "metadata": {
        "id": "nT0hi0bv3RXr"
      }
    },
    {
      "cell_type": "code",
      "execution_count": 2,
      "metadata": {
        "colab": {
          "base_uri": "https://localhost:8080/"
        },
        "id": "u_rP-Izs3Rgr",
        "outputId": "a0f6cefb-fdf1-4579-cb27-6f2c0b4c0b28"
      },
      "outputs": [
        {
          "output_type": "stream",
          "name": "stdout",
          "text": [
            "Collecting scikit-surprise\n",
            "  Downloading scikit_surprise-1.1.4.tar.gz (154 kB)\n",
            "\u001b[?25l     \u001b[90m━━━━━━━━━━━━━━━━━━━━━━━━━━━━━━━━━━━━━━━━\u001b[0m \u001b[32m0.0/154.4 kB\u001b[0m \u001b[31m?\u001b[0m eta \u001b[36m-:--:--\u001b[0m\r\u001b[2K     \u001b[91m━━━━━━━━━━━━━━━━━━━━━━━━━━━━━━━━━━━━━━━\u001b[0m\u001b[91m╸\u001b[0m \u001b[32m153.6/154.4 kB\u001b[0m \u001b[31m4.7 MB/s\u001b[0m eta \u001b[36m0:00:01\u001b[0m\r\u001b[2K     \u001b[90m━━━━━━━━━━━━━━━━━━━━━━━━━━━━━━━━━━━━━━━━\u001b[0m \u001b[32m154.4/154.4 kB\u001b[0m \u001b[31m3.6 MB/s\u001b[0m eta \u001b[36m0:00:00\u001b[0m\n",
            "\u001b[?25h  Installing build dependencies ... \u001b[?25l\u001b[?25hdone\n",
            "  Getting requirements to build wheel ... \u001b[?25l\u001b[?25hdone\n",
            "  Preparing metadata (pyproject.toml) ... \u001b[?25l\u001b[?25hdone\n",
            "Requirement already satisfied: joblib>=1.2.0 in /usr/local/lib/python3.10/dist-packages (from scikit-surprise) (1.4.2)\n",
            "Requirement already satisfied: numpy>=1.19.5 in /usr/local/lib/python3.10/dist-packages (from scikit-surprise) (1.25.2)\n",
            "Requirement already satisfied: scipy>=1.6.0 in /usr/local/lib/python3.10/dist-packages (from scikit-surprise) (1.11.4)\n",
            "Building wheels for collected packages: scikit-surprise\n",
            "  Building wheel for scikit-surprise (pyproject.toml) ... \u001b[?25l\u001b[?25hdone\n",
            "  Created wheel for scikit-surprise: filename=scikit_surprise-1.1.4-cp310-cp310-linux_x86_64.whl size=2357256 sha256=c93a7598a6645f12003062a96103ad95454aeb39be7cb6ef79c7575376239652\n",
            "  Stored in directory: /root/.cache/pip/wheels/4b/3f/df/6acbf0a40397d9bf3ff97f582cc22fb9ce66adde75bc71fd54\n",
            "Successfully built scikit-surprise\n",
            "Installing collected packages: scikit-surprise\n",
            "Successfully installed scikit-surprise-1.1.4\n"
          ]
        }
      ],
      "source": [
        "pip install scikit-surprise\n"
      ]
    },
    {
      "cell_type": "code",
      "execution_count": 3,
      "metadata": {
        "colab": {
          "base_uri": "https://localhost:8080/"
        },
        "id": "scUSoLP53Ix8",
        "outputId": "60e6aaef-682c-4f68-a7cf-dd41e8cc2387"
      },
      "outputs": [
        {
          "output_type": "stream",
          "name": "stdout",
          "text": [
            "Contents of the directory: ['allbut.pl', 'mku.sh', 'u1.test', 'u2.base', 'u1.base', 'u.genre', 'u.info', 'u.occupation', 'u.user', 'u.data', 'u2.test', 'README', 'u.item', 'u3.base', 'u3.test', 'u5.base', 'ua.test', 'u4.base', 'ub.base', 'u5.test', 'ub.test', 'ua.base', 'u4.test']\n",
            "   user_id  item_id  rating  timestamp\n",
            "0      196      242       3  881250949\n",
            "1      186      302       3  891717742\n",
            "2       22      377       1  878887116\n",
            "3      244       51       2  880606923\n",
            "4      166      346       1  886397596\n"
          ]
        }
      ],
      "source": [
        "import os\n",
        "import pandas as pd\n",
        "\n",
        "# Define the directory path\n",
        "directory_path = '/content/drive/MyDrive/ml-100k/ml-100k'\n",
        "\n",
        "# List the contents of the directory\n",
        "print(\"Contents of the directory:\", os.listdir(directory_path))\n",
        "\n",
        "# Specify the file path for the u.data file\n",
        "file_path = os.path.join(directory_path, 'u.data')\n",
        "\n",
        "# Load the dataset into a pandas DataFrame\n",
        "column_names = ['user_id', 'item_id', 'rating', 'timestamp']\n",
        "data = pd.read_csv(file_path, sep='\\t', names=column_names)\n",
        "\n",
        "# Take a look at the first few rows of the data\n",
        "print(data.head())\n"
      ]
    },
    {
      "cell_type": "code",
      "execution_count": 4,
      "metadata": {
        "colab": {
          "base_uri": "https://localhost:8080/"
        },
        "id": "Agj3WF7y44AB",
        "outputId": "051eaebf-8c7c-4191-98ad-8bc84480b2a9"
      },
      "outputs": [
        {
          "output_type": "stream",
          "name": "stdout",
          "text": [
            "Requirement already satisfied: tensorflow in /usr/local/lib/python3.10/dist-packages (2.15.0)\n",
            "Collecting tensorflow-recommenders\n",
            "  Downloading tensorflow_recommenders-0.7.3-py3-none-any.whl (96 kB)\n",
            "\u001b[2K     \u001b[90m━━━━━━━━━━━━━━━━━━━━━━━━━━━━━━━━━━━━━━━━\u001b[0m \u001b[32m96.2/96.2 kB\u001b[0m \u001b[31m2.2 MB/s\u001b[0m eta \u001b[36m0:00:00\u001b[0m\n",
            "\u001b[?25hRequirement already satisfied: absl-py>=1.0.0 in /usr/local/lib/python3.10/dist-packages (from tensorflow) (1.4.0)\n",
            "Requirement already satisfied: astunparse>=1.6.0 in /usr/local/lib/python3.10/dist-packages (from tensorflow) (1.6.3)\n",
            "Requirement already satisfied: flatbuffers>=23.5.26 in /usr/local/lib/python3.10/dist-packages (from tensorflow) (24.3.25)\n",
            "Requirement already satisfied: gast!=0.5.0,!=0.5.1,!=0.5.2,>=0.2.1 in /usr/local/lib/python3.10/dist-packages (from tensorflow) (0.5.4)\n",
            "Requirement already satisfied: google-pasta>=0.1.1 in /usr/local/lib/python3.10/dist-packages (from tensorflow) (0.2.0)\n",
            "Requirement already satisfied: h5py>=2.9.0 in /usr/local/lib/python3.10/dist-packages (from tensorflow) (3.9.0)\n",
            "Requirement already satisfied: libclang>=13.0.0 in /usr/local/lib/python3.10/dist-packages (from tensorflow) (18.1.1)\n",
            "Requirement already satisfied: ml-dtypes~=0.2.0 in /usr/local/lib/python3.10/dist-packages (from tensorflow) (0.2.0)\n",
            "Requirement already satisfied: numpy<2.0.0,>=1.23.5 in /usr/local/lib/python3.10/dist-packages (from tensorflow) (1.25.2)\n",
            "Requirement already satisfied: opt-einsum>=2.3.2 in /usr/local/lib/python3.10/dist-packages (from tensorflow) (3.3.0)\n",
            "Requirement already satisfied: packaging in /usr/local/lib/python3.10/dist-packages (from tensorflow) (24.1)\n",
            "Requirement already satisfied: protobuf!=4.21.0,!=4.21.1,!=4.21.2,!=4.21.3,!=4.21.4,!=4.21.5,<5.0.0dev,>=3.20.3 in /usr/local/lib/python3.10/dist-packages (from tensorflow) (3.20.3)\n",
            "Requirement already satisfied: setuptools in /usr/local/lib/python3.10/dist-packages (from tensorflow) (67.7.2)\n",
            "Requirement already satisfied: six>=1.12.0 in /usr/local/lib/python3.10/dist-packages (from tensorflow) (1.16.0)\n",
            "Requirement already satisfied: termcolor>=1.1.0 in /usr/local/lib/python3.10/dist-packages (from tensorflow) (2.4.0)\n",
            "Requirement already satisfied: typing-extensions>=3.6.6 in /usr/local/lib/python3.10/dist-packages (from tensorflow) (4.12.2)\n",
            "Requirement already satisfied: wrapt<1.15,>=1.11.0 in /usr/local/lib/python3.10/dist-packages (from tensorflow) (1.14.1)\n",
            "Requirement already satisfied: tensorflow-io-gcs-filesystem>=0.23.1 in /usr/local/lib/python3.10/dist-packages (from tensorflow) (0.37.0)\n",
            "Requirement already satisfied: grpcio<2.0,>=1.24.3 in /usr/local/lib/python3.10/dist-packages (from tensorflow) (1.64.1)\n",
            "Requirement already satisfied: tensorboard<2.16,>=2.15 in /usr/local/lib/python3.10/dist-packages (from tensorflow) (2.15.2)\n",
            "Requirement already satisfied: tensorflow-estimator<2.16,>=2.15.0 in /usr/local/lib/python3.10/dist-packages (from tensorflow) (2.15.0)\n",
            "Requirement already satisfied: keras<2.16,>=2.15.0 in /usr/local/lib/python3.10/dist-packages (from tensorflow) (2.15.0)\n",
            "Requirement already satisfied: wheel<1.0,>=0.23.0 in /usr/local/lib/python3.10/dist-packages (from astunparse>=1.6.0->tensorflow) (0.43.0)\n",
            "Requirement already satisfied: google-auth<3,>=1.6.3 in /usr/local/lib/python3.10/dist-packages (from tensorboard<2.16,>=2.15->tensorflow) (2.27.0)\n",
            "Requirement already satisfied: google-auth-oauthlib<2,>=0.5 in /usr/local/lib/python3.10/dist-packages (from tensorboard<2.16,>=2.15->tensorflow) (1.2.0)\n",
            "Requirement already satisfied: markdown>=2.6.8 in /usr/local/lib/python3.10/dist-packages (from tensorboard<2.16,>=2.15->tensorflow) (3.6)\n",
            "Requirement already satisfied: requests<3,>=2.21.0 in /usr/local/lib/python3.10/dist-packages (from tensorboard<2.16,>=2.15->tensorflow) (2.31.0)\n",
            "Requirement already satisfied: tensorboard-data-server<0.8.0,>=0.7.0 in /usr/local/lib/python3.10/dist-packages (from tensorboard<2.16,>=2.15->tensorflow) (0.7.2)\n",
            "Requirement already satisfied: werkzeug>=1.0.1 in /usr/local/lib/python3.10/dist-packages (from tensorboard<2.16,>=2.15->tensorflow) (3.0.3)\n",
            "Requirement already satisfied: cachetools<6.0,>=2.0.0 in /usr/local/lib/python3.10/dist-packages (from google-auth<3,>=1.6.3->tensorboard<2.16,>=2.15->tensorflow) (5.3.3)\n",
            "Requirement already satisfied: pyasn1-modules>=0.2.1 in /usr/local/lib/python3.10/dist-packages (from google-auth<3,>=1.6.3->tensorboard<2.16,>=2.15->tensorflow) (0.4.0)\n",
            "Requirement already satisfied: rsa<5,>=3.1.4 in /usr/local/lib/python3.10/dist-packages (from google-auth<3,>=1.6.3->tensorboard<2.16,>=2.15->tensorflow) (4.9)\n",
            "Requirement already satisfied: requests-oauthlib>=0.7.0 in /usr/local/lib/python3.10/dist-packages (from google-auth-oauthlib<2,>=0.5->tensorboard<2.16,>=2.15->tensorflow) (1.3.1)\n",
            "Requirement already satisfied: charset-normalizer<4,>=2 in /usr/local/lib/python3.10/dist-packages (from requests<3,>=2.21.0->tensorboard<2.16,>=2.15->tensorflow) (3.3.2)\n",
            "Requirement already satisfied: idna<4,>=2.5 in /usr/local/lib/python3.10/dist-packages (from requests<3,>=2.21.0->tensorboard<2.16,>=2.15->tensorflow) (3.7)\n",
            "Requirement already satisfied: urllib3<3,>=1.21.1 in /usr/local/lib/python3.10/dist-packages (from requests<3,>=2.21.0->tensorboard<2.16,>=2.15->tensorflow) (2.0.7)\n",
            "Requirement already satisfied: certifi>=2017.4.17 in /usr/local/lib/python3.10/dist-packages (from requests<3,>=2.21.0->tensorboard<2.16,>=2.15->tensorflow) (2024.6.2)\n",
            "Requirement already satisfied: MarkupSafe>=2.1.1 in /usr/local/lib/python3.10/dist-packages (from werkzeug>=1.0.1->tensorboard<2.16,>=2.15->tensorflow) (2.1.5)\n",
            "Requirement already satisfied: pyasn1<0.7.0,>=0.4.6 in /usr/local/lib/python3.10/dist-packages (from pyasn1-modules>=0.2.1->google-auth<3,>=1.6.3->tensorboard<2.16,>=2.15->tensorflow) (0.6.0)\n",
            "Requirement already satisfied: oauthlib>=3.0.0 in /usr/local/lib/python3.10/dist-packages (from requests-oauthlib>=0.7.0->google-auth-oauthlib<2,>=0.5->tensorboard<2.16,>=2.15->tensorflow) (3.2.2)\n",
            "Installing collected packages: tensorflow-recommenders\n",
            "Successfully installed tensorflow-recommenders-0.7.3\n"
          ]
        }
      ],
      "source": [
        "!pip install tensorflow tensorflow-recommenders\n"
      ]
    },
    {
      "cell_type": "code",
      "execution_count": 5,
      "metadata": {
        "id": "gD8StpVU7Cwi"
      },
      "outputs": [],
      "source": [
        "import tensorflow as tf\n",
        "import tensorflow_recommenders as tfrs\n",
        "import pandas as pd\n",
        "import numpy as np\n",
        "\n",
        "# Ensure TensorFlow and TensorFlow Recommenders are installed\n",
        "assert tf.__version__ >= \"2.0\"\n",
        "assert tfrs.__version__ >= \"0.6.0\"\n",
        "\n",
        "# Load data (assuming it's already loaded in a DataFrame named `data`)\n",
        "# data = pd.read_csv(file_path, sep='\\t', names=['user_id', 'item_id', 'rating', 'timestamp'])\n",
        "\n",
        "# Convert the DataFrame to a TensorFlow Dataset\n",
        "ratings = tf.data.Dataset.from_tensor_slices({\n",
        "    \"user_id\": data[\"user_id\"].values,\n",
        "    \"item_id\": data[\"item_id\"].values,\n",
        "    \"rating\": data[\"rating\"].values\n",
        "})\n",
        "\n",
        "# Define user and movie vocabularies\n",
        "user_ids = data[\"user_id\"].unique()\n",
        "movie_ids = data[\"item_id\"].unique()\n",
        "\n",
        "# Shuffle and split the data into training and test sets\n",
        "tf.random.set_seed(42)\n",
        "shuffled = ratings.shuffle(len(data), seed=42, reshuffle_each_iteration=False)\n",
        "\n",
        "train = shuffled.take(int(0.8 * len(data)))\n",
        "test = shuffled.skip(int(0.8 * len(data)))\n"
      ]
    },
    {
      "cell_type": "code",
      "execution_count": 6,
      "metadata": {
        "id": "vKNLhoWv7SJT"
      },
      "outputs": [],
      "source": [
        "# Convert user and movie IDs to strings\n",
        "data[\"user_id\"] = data[\"user_id\"].astype(str)\n",
        "data[\"item_id\"] = data[\"item_id\"].astype(str)\n",
        "\n",
        "# Get unique user and movie IDs\n",
        "user_ids = data[\"user_id\"].unique().tolist()\n",
        "movie_ids = data[\"item_id\"].unique().tolist()\n"
      ]
    },
    {
      "cell_type": "code",
      "execution_count": 7,
      "metadata": {
        "id": "6KhZCqcN8CaW"
      },
      "outputs": [],
      "source": [
        "class MovieLensModel(tfrs.Model):\n",
        "  def __init__(self, user_vocab, movie_vocab):\n",
        "    super().__init__()\n",
        "    embedding_dimension = 32\n",
        "\n",
        "    # User and item embeddings\n",
        "    self.user_embeddings = tf.keras.Sequential([\n",
        "      tf.keras.layers.StringLookup(vocabulary=user_vocab, mask_token=None),\n",
        "      tf.keras.layers.Embedding(len(user_vocab) + 1, embedding_dimension)\n",
        "    ])\n",
        "    self.movie_embeddings = tf.keras.Sequential([\n",
        "      tf.keras.layers.StringLookup(vocabulary=movie_vocab, mask_token=None),\n",
        "      tf.keras.layers.Embedding(len(movie_vocab) + 1, embedding_dimension)\n",
        "    ])\n",
        "\n",
        "    # Rating prediction layer\n",
        "    self.ratings = tf.keras.Sequential([\n",
        "      tf.keras.layers.Dense(256, activation=\"relu\"),\n",
        "      tf.keras.layers.Dense(64, activation=\"relu\"),\n",
        "      tf.keras.layers.Dense(1)\n",
        "    ])\n",
        "\n",
        "    # Task to optimize\n",
        "    self.task = tfrs.tasks.Ranking(\n",
        "      loss=tf.keras.losses.MeanSquaredError(),\n",
        "      metrics=[tf.keras.metrics.RootMeanSquaredError()]\n",
        "    )\n",
        "\n",
        "  def compute_loss(self, features, training=False):\n",
        "    # We pick out the user IDs and movie IDs from the features.\n",
        "    user_embeddings = self.user_embeddings(features[\"user_id\"])\n",
        "    movie_embeddings = self.movie_embeddings(features[\"item_id\"])\n",
        "\n",
        "    # We compute the predictions.\n",
        "    ratings = self.ratings(tf.concat([user_embeddings, movie_embeddings], axis=1))\n",
        "\n",
        "    # We compute the loss and metrics.\n",
        "    return self.task(\n",
        "      labels=features[\"rating\"],\n",
        "      predictions=ratings,\n",
        "    )\n",
        "\n",
        "# Instantiate the model\n",
        "model = MovieLensModel(user_ids, movie_ids)\n"
      ]
    },
    {
      "cell_type": "code",
      "execution_count": 10,
      "metadata": {
        "id": "3oyANQCb8KCm"
      },
      "outputs": [],
      "source": [
        "# Convert user and item IDs to strings\n",
        "data[\"user_id\"] = data[\"user_id\"].astype(str)\n",
        "data[\"item_id\"] = data[\"item_id\"].astype(str)\n",
        "\n",
        "# Get unique user and movie IDs\n",
        "user_ids = data[\"user_id\"].unique().tolist()\n",
        "movie_ids = data[\"item_id\"].unique().tolist()\n"
      ]
    },
    {
      "cell_type": "code",
      "execution_count": 11,
      "metadata": {
        "id": "nsVnEJlH9Lyh"
      },
      "outputs": [],
      "source": [
        "import tensorflow as tf\n",
        "import tensorflow_recommenders as tfrs\n",
        "import pandas as pd\n",
        "import numpy as np\n",
        "\n",
        "# Ensure user and item IDs are strings\n",
        "data[\"user_id\"] = data[\"user_id\"].astype(str)\n",
        "data[\"item_id\"] = data[\"item_id\"].astype(str)\n",
        "\n",
        "# Convert the DataFrame to a TensorFlow Dataset\n",
        "ratings = tf.data.Dataset.from_tensor_slices({\n",
        "    \"user_id\": data[\"user_id\"].values,\n",
        "    \"item_id\": data[\"item_id\"].values,\n",
        "    \"rating\": data[\"rating\"].values\n",
        "})\n",
        "\n",
        "# Shuffle and split the data into training and test sets\n",
        "tf.random.set_seed(42)\n",
        "shuffled = ratings.shuffle(len(data), seed=42, reshuffle_each_iteration=False)\n",
        "\n",
        "train = shuffled.take(int(0.8 * len(data)))\n",
        "test = shuffled.skip(int(0.8 * len(data)))\n",
        "\n",
        "# Batch and cache the datasets\n",
        "cached_train = train.batch(8192).cache()\n",
        "cached_test = test.batch(4096).cache()\n"
      ]
    },
    {
      "cell_type": "code",
      "execution_count": 12,
      "metadata": {
        "id": "7YXMbB0x9PBD"
      },
      "outputs": [],
      "source": [
        "class MovieLensModel(tfrs.Model):\n",
        "  def __init__(self, user_vocab, movie_vocab):\n",
        "    super().__init__()\n",
        "    embedding_dimension = 32\n",
        "\n",
        "    # User and item embeddings\n",
        "    self.user_embeddings = tf.keras.Sequential([\n",
        "      tf.keras.layers.StringLookup(vocabulary=user_vocab, mask_token=None),\n",
        "      tf.keras.layers.Embedding(len(user_vocab) + 1, embedding_dimension)\n",
        "    ])\n",
        "    self.movie_embeddings = tf.keras.Sequential([\n",
        "      tf.keras.layers.StringLookup(vocabulary=movie_vocab, mask_token=None),\n",
        "      tf.keras.layers.Embedding(len(movie_vocab) + 1, embedding_dimension)\n",
        "    ])\n",
        "\n",
        "    # Rating prediction layer\n",
        "    self.ratings = tf.keras.Sequential([\n",
        "      tf.keras.layers.Dense(256, activation=\"relu\"),\n",
        "      tf.keras.layers.Dense(64, activation=\"relu\"),\n",
        "\n",
        "      tf.keras.layers.Dense(1)\n",
        "    ])\n",
        "\n",
        "    # Task to optimize\n",
        "    self.task = tfrs.tasks.Ranking(\n",
        "      loss=tf.keras.losses.MeanSquaredError(),\n",
        "      metrics=[tf.keras.metrics.RootMeanSquaredError()]\n",
        "    )\n",
        "\n",
        "  def compute_loss(self, features, training=False):\n",
        "    # We pick out the user IDs and movie IDs from the features.\n",
        "    user_embeddings = self.user_embeddings(features[\"user_id\"])\n",
        "    movie_embeddings = self.movie_embeddings(features[\"item_id\"])\n",
        "\n",
        "    # We compute the predictions.\n",
        "    ratings = self.ratings(tf.concat([user_embeddings, movie_embeddings], axis=1))\n",
        "\n",
        "    # We compute the loss and metrics.\n",
        "    return self.task(\n",
        "      labels=features[\"rating\"],\n",
        "      predictions=ratings,\n",
        "    )\n",
        "\n",
        "# Instantiate the model\n",
        "model = MovieLensModel(user_ids, movie_ids)\n"
      ]
    },
    {
      "cell_type": "code",
      "execution_count": 13,
      "metadata": {
        "colab": {
          "base_uri": "https://localhost:8080/"
        },
        "id": "EWJveASR9SP7",
        "outputId": "5d78a41b-5ba9-4ace-adab-771be6a4d457"
      },
      "outputs": [
        {
          "output_type": "stream",
          "name": "stdout",
          "text": [
            "Epoch 1/100\n",
            "10/10 [==============================] - 2s 84ms/step - root_mean_squared_error: 2.0659 - loss: 3.9672 - regularization_loss: 0.0000e+00 - total_loss: 3.9672\n",
            "Epoch 2/100\n",
            "10/10 [==============================] - 1s 56ms/step - root_mean_squared_error: 1.2044 - loss: 1.4358 - regularization_loss: 0.0000e+00 - total_loss: 1.4358\n",
            "Epoch 3/100\n",
            "10/10 [==============================] - 1s 56ms/step - root_mean_squared_error: 1.1224 - loss: 1.2582 - regularization_loss: 0.0000e+00 - total_loss: 1.2582\n",
            "Epoch 4/100\n",
            "10/10 [==============================] - 1s 56ms/step - root_mean_squared_error: 1.1014 - loss: 1.2126 - regularization_loss: 0.0000e+00 - total_loss: 1.2126\n",
            "Epoch 5/100\n",
            "10/10 [==============================] - 1s 56ms/step - root_mean_squared_error: 1.0820 - loss: 1.1698 - regularization_loss: 0.0000e+00 - total_loss: 1.1698\n",
            "Epoch 6/100\n",
            "10/10 [==============================] - 1s 65ms/step - root_mean_squared_error: 1.0587 - loss: 1.1202 - regularization_loss: 0.0000e+00 - total_loss: 1.1202\n",
            "Epoch 7/100\n",
            "10/10 [==============================] - 1s 56ms/step - root_mean_squared_error: 1.0393 - loss: 1.0815 - regularization_loss: 0.0000e+00 - total_loss: 1.0815\n",
            "Epoch 8/100\n",
            "10/10 [==============================] - 1s 51ms/step - root_mean_squared_error: 1.0356 - loss: 1.0743 - regularization_loss: 0.0000e+00 - total_loss: 1.0743\n",
            "Epoch 9/100\n",
            "10/10 [==============================] - 1s 85ms/step - root_mean_squared_error: 1.0171 - loss: 1.0333 - regularization_loss: 0.0000e+00 - total_loss: 1.0333\n",
            "Epoch 10/100\n",
            "10/10 [==============================] - 1s 86ms/step - root_mean_squared_error: 0.9878 - loss: 0.9761 - regularization_loss: 0.0000e+00 - total_loss: 0.9761\n",
            "Epoch 11/100\n",
            "10/10 [==============================] - 1s 107ms/step - root_mean_squared_error: 0.9715 - loss: 0.9451 - regularization_loss: 0.0000e+00 - total_loss: 0.9451\n",
            "Epoch 12/100\n",
            "10/10 [==============================] - 1s 87ms/step - root_mean_squared_error: 0.9627 - loss: 0.9284 - regularization_loss: 0.0000e+00 - total_loss: 0.9284\n",
            "Epoch 13/100\n",
            "10/10 [==============================] - 1s 58ms/step - root_mean_squared_error: 0.9577 - loss: 0.9190 - regularization_loss: 0.0000e+00 - total_loss: 0.9190\n",
            "Epoch 14/100\n",
            "10/10 [==============================] - 1s 53ms/step - root_mean_squared_error: 0.9541 - loss: 0.9121 - regularization_loss: 0.0000e+00 - total_loss: 0.9121\n",
            "Epoch 15/100\n",
            "10/10 [==============================] - 1s 59ms/step - root_mean_squared_error: 0.9496 - loss: 0.9032 - regularization_loss: 0.0000e+00 - total_loss: 0.9032\n",
            "Epoch 16/100\n",
            "10/10 [==============================] - 1s 60ms/step - root_mean_squared_error: 0.9440 - loss: 0.8927 - regularization_loss: 0.0000e+00 - total_loss: 0.8927\n",
            "Epoch 17/100\n",
            "10/10 [==============================] - 1s 53ms/step - root_mean_squared_error: 0.9392 - loss: 0.8837 - regularization_loss: 0.0000e+00 - total_loss: 0.8837\n",
            "Epoch 18/100\n",
            "10/10 [==============================] - 1s 55ms/step - root_mean_squared_error: 0.9357 - loss: 0.8773 - regularization_loss: 0.0000e+00 - total_loss: 0.8773\n",
            "Epoch 19/100\n",
            "10/10 [==============================] - 1s 52ms/step - root_mean_squared_error: 0.9333 - loss: 0.8729 - regularization_loss: 0.0000e+00 - total_loss: 0.8729\n",
            "Epoch 20/100\n",
            "10/10 [==============================] - 1s 58ms/step - root_mean_squared_error: 0.9316 - loss: 0.8698 - regularization_loss: 0.0000e+00 - total_loss: 0.8698\n",
            "Epoch 21/100\n",
            "10/10 [==============================] - 1s 59ms/step - root_mean_squared_error: 0.9303 - loss: 0.8672 - regularization_loss: 0.0000e+00 - total_loss: 0.8672\n",
            "Epoch 22/100\n",
            "10/10 [==============================] - 1s 57ms/step - root_mean_squared_error: 0.9289 - loss: 0.8646 - regularization_loss: 0.0000e+00 - total_loss: 0.8646\n",
            "Epoch 23/100\n",
            "10/10 [==============================] - 1s 57ms/step - root_mean_squared_error: 0.9275 - loss: 0.8620 - regularization_loss: 0.0000e+00 - total_loss: 0.8620\n",
            "Epoch 24/100\n",
            "10/10 [==============================] - 0s 49ms/step - root_mean_squared_error: 0.9261 - loss: 0.8593 - regularization_loss: 0.0000e+00 - total_loss: 0.8593\n",
            "Epoch 25/100\n",
            "10/10 [==============================] - 1s 61ms/step - root_mean_squared_error: 0.9248 - loss: 0.8570 - regularization_loss: 0.0000e+00 - total_loss: 0.8570\n",
            "Epoch 26/100\n",
            "10/10 [==============================] - 1s 60ms/step - root_mean_squared_error: 0.9237 - loss: 0.8550 - regularization_loss: 0.0000e+00 - total_loss: 0.8550\n",
            "Epoch 27/100\n",
            "10/10 [==============================] - 0s 49ms/step - root_mean_squared_error: 0.9229 - loss: 0.8534 - regularization_loss: 0.0000e+00 - total_loss: 0.8534\n",
            "Epoch 28/100\n",
            "10/10 [==============================] - 1s 56ms/step - root_mean_squared_error: 0.9221 - loss: 0.8520 - regularization_loss: 0.0000e+00 - total_loss: 0.8520\n",
            "Epoch 29/100\n",
            "10/10 [==============================] - 1s 89ms/step - root_mean_squared_error: 0.9215 - loss: 0.8509 - regularization_loss: 0.0000e+00 - total_loss: 0.8509\n",
            "Epoch 30/100\n",
            "10/10 [==============================] - 1s 86ms/step - root_mean_squared_error: 0.9209 - loss: 0.8498 - regularization_loss: 0.0000e+00 - total_loss: 0.8498\n",
            "Epoch 31/100\n",
            "10/10 [==============================] - 1s 92ms/step - root_mean_squared_error: 0.9204 - loss: 0.8488 - regularization_loss: 0.0000e+00 - total_loss: 0.8488\n",
            "Epoch 32/100\n",
            "10/10 [==============================] - 1s 84ms/step - root_mean_squared_error: 0.9199 - loss: 0.8479 - regularization_loss: 0.0000e+00 - total_loss: 0.8479\n",
            "Epoch 33/100\n",
            "10/10 [==============================] - 1s 51ms/step - root_mean_squared_error: 0.9195 - loss: 0.8471 - regularization_loss: 0.0000e+00 - total_loss: 0.8471\n",
            "Epoch 34/100\n",
            "10/10 [==============================] - 0s 49ms/step - root_mean_squared_error: 0.9191 - loss: 0.8463 - regularization_loss: 0.0000e+00 - total_loss: 0.8463\n",
            "Epoch 35/100\n",
            "10/10 [==============================] - 1s 58ms/step - root_mean_squared_error: 0.9187 - loss: 0.8456 - regularization_loss: 0.0000e+00 - total_loss: 0.8456\n",
            "Epoch 36/100\n",
            "10/10 [==============================] - 0s 47ms/step - root_mean_squared_error: 0.9184 - loss: 0.8450 - regularization_loss: 0.0000e+00 - total_loss: 0.8450\n",
            "Epoch 37/100\n",
            "10/10 [==============================] - 1s 55ms/step - root_mean_squared_error: 0.9180 - loss: 0.8444 - regularization_loss: 0.0000e+00 - total_loss: 0.8444\n",
            "Epoch 38/100\n",
            "10/10 [==============================] - 1s 65ms/step - root_mean_squared_error: 0.9178 - loss: 0.8439 - regularization_loss: 0.0000e+00 - total_loss: 0.8439\n",
            "Epoch 39/100\n",
            "10/10 [==============================] - 1s 58ms/step - root_mean_squared_error: 0.9175 - loss: 0.8434 - regularization_loss: 0.0000e+00 - total_loss: 0.8434\n",
            "Epoch 40/100\n",
            "10/10 [==============================] - 1s 57ms/step - root_mean_squared_error: 0.9173 - loss: 0.8429 - regularization_loss: 0.0000e+00 - total_loss: 0.8429\n",
            "Epoch 41/100\n",
            "10/10 [==============================] - 1s 53ms/step - root_mean_squared_error: 0.9170 - loss: 0.8425 - regularization_loss: 0.0000e+00 - total_loss: 0.8425\n",
            "Epoch 42/100\n",
            "10/10 [==============================] - 1s 52ms/step - root_mean_squared_error: 0.9168 - loss: 0.8421 - regularization_loss: 0.0000e+00 - total_loss: 0.8421\n",
            "Epoch 43/100\n",
            "10/10 [==============================] - 1s 52ms/step - root_mean_squared_error: 0.9166 - loss: 0.8417 - regularization_loss: 0.0000e+00 - total_loss: 0.8417\n",
            "Epoch 44/100\n",
            "10/10 [==============================] - 1s 55ms/step - root_mean_squared_error: 0.9164 - loss: 0.8414 - regularization_loss: 0.0000e+00 - total_loss: 0.8414\n",
            "Epoch 45/100\n",
            "10/10 [==============================] - 1s 88ms/step - root_mean_squared_error: 0.9163 - loss: 0.8411 - regularization_loss: 0.0000e+00 - total_loss: 0.8411\n",
            "Epoch 46/100\n",
            "10/10 [==============================] - 1s 85ms/step - root_mean_squared_error: 0.9161 - loss: 0.8407 - regularization_loss: 0.0000e+00 - total_loss: 0.8407\n",
            "Epoch 47/100\n",
            "10/10 [==============================] - 1s 86ms/step - root_mean_squared_error: 0.9159 - loss: 0.8404 - regularization_loss: 0.0000e+00 - total_loss: 0.8404\n",
            "Epoch 48/100\n",
            "10/10 [==============================] - 1s 80ms/step - root_mean_squared_error: 0.9158 - loss: 0.8402 - regularization_loss: 0.0000e+00 - total_loss: 0.8402\n",
            "Epoch 49/100\n",
            "10/10 [==============================] - 1s 83ms/step - root_mean_squared_error: 0.9156 - loss: 0.8399 - regularization_loss: 0.0000e+00 - total_loss: 0.8399\n",
            "Epoch 50/100\n",
            "10/10 [==============================] - 1s 50ms/step - root_mean_squared_error: 0.9155 - loss: 0.8396 - regularization_loss: 0.0000e+00 - total_loss: 0.8396\n",
            "Epoch 51/100\n",
            "10/10 [==============================] - 1s 54ms/step - root_mean_squared_error: 0.9154 - loss: 0.8394 - regularization_loss: 0.0000e+00 - total_loss: 0.8394\n",
            "Epoch 52/100\n",
            "10/10 [==============================] - 1s 52ms/step - root_mean_squared_error: 0.9153 - loss: 0.8392 - regularization_loss: 0.0000e+00 - total_loss: 0.8392\n",
            "Epoch 53/100\n",
            "10/10 [==============================] - 1s 51ms/step - root_mean_squared_error: 0.9152 - loss: 0.8390 - regularization_loss: 0.0000e+00 - total_loss: 0.8390\n",
            "Epoch 54/100\n",
            "10/10 [==============================] - 0s 47ms/step - root_mean_squared_error: 0.9150 - loss: 0.8388 - regularization_loss: 0.0000e+00 - total_loss: 0.8388\n",
            "Epoch 55/100\n",
            "10/10 [==============================] - 1s 54ms/step - root_mean_squared_error: 0.9149 - loss: 0.8386 - regularization_loss: 0.0000e+00 - total_loss: 0.8386\n",
            "Epoch 56/100\n",
            "10/10 [==============================] - 1s 56ms/step - root_mean_squared_error: 0.9148 - loss: 0.8384 - regularization_loss: 0.0000e+00 - total_loss: 0.8384\n",
            "Epoch 57/100\n",
            "10/10 [==============================] - 1s 50ms/step - root_mean_squared_error: 0.9147 - loss: 0.8382 - regularization_loss: 0.0000e+00 - total_loss: 0.8382\n",
            "Epoch 58/100\n",
            "10/10 [==============================] - 0s 49ms/step - root_mean_squared_error: 0.9146 - loss: 0.8380 - regularization_loss: 0.0000e+00 - total_loss: 0.8380\n",
            "Epoch 59/100\n",
            "10/10 [==============================] - 0s 48ms/step - root_mean_squared_error: 0.9146 - loss: 0.8378 - regularization_loss: 0.0000e+00 - total_loss: 0.8378\n",
            "Epoch 60/100\n",
            "10/10 [==============================] - 1s 58ms/step - root_mean_squared_error: 0.9145 - loss: 0.8377 - regularization_loss: 0.0000e+00 - total_loss: 0.8377\n",
            "Epoch 61/100\n",
            "10/10 [==============================] - 1s 55ms/step - root_mean_squared_error: 0.9144 - loss: 0.8375 - regularization_loss: 0.0000e+00 - total_loss: 0.8375\n",
            "Epoch 62/100\n",
            "10/10 [==============================] - 1s 52ms/step - root_mean_squared_error: 0.9143 - loss: 0.8374 - regularization_loss: 0.0000e+00 - total_loss: 0.8374\n",
            "Epoch 63/100\n",
            "10/10 [==============================] - 1s 60ms/step - root_mean_squared_error: 0.9142 - loss: 0.8372 - regularization_loss: 0.0000e+00 - total_loss: 0.8372\n",
            "Epoch 64/100\n",
            "10/10 [==============================] - 1s 54ms/step - root_mean_squared_error: 0.9141 - loss: 0.8371 - regularization_loss: 0.0000e+00 - total_loss: 0.8371\n",
            "Epoch 65/100\n",
            "10/10 [==============================] - 1s 82ms/step - root_mean_squared_error: 0.9141 - loss: 0.8369 - regularization_loss: 0.0000e+00 - total_loss: 0.8369\n",
            "Epoch 66/100\n",
            "10/10 [==============================] - 1s 114ms/step - root_mean_squared_error: 0.9140 - loss: 0.8368 - regularization_loss: 0.0000e+00 - total_loss: 0.8368\n",
            "Epoch 67/100\n",
            "10/10 [==============================] - 1s 137ms/step - root_mean_squared_error: 0.9139 - loss: 0.8366 - regularization_loss: 0.0000e+00 - total_loss: 0.8366\n",
            "Epoch 68/100\n",
            "10/10 [==============================] - 1s 91ms/step - root_mean_squared_error: 0.9138 - loss: 0.8365 - regularization_loss: 0.0000e+00 - total_loss: 0.8365\n",
            "Epoch 69/100\n",
            "10/10 [==============================] - 1s 87ms/step - root_mean_squared_error: 0.9138 - loss: 0.8364 - regularization_loss: 0.0000e+00 - total_loss: 0.8364\n",
            "Epoch 70/100\n",
            "10/10 [==============================] - 1s 89ms/step - root_mean_squared_error: 0.9137 - loss: 0.8363 - regularization_loss: 0.0000e+00 - total_loss: 0.8363\n",
            "Epoch 71/100\n",
            "10/10 [==============================] - 1s 94ms/step - root_mean_squared_error: 0.9136 - loss: 0.8362 - regularization_loss: 0.0000e+00 - total_loss: 0.8362\n",
            "Epoch 72/100\n",
            "10/10 [==============================] - 1s 85ms/step - root_mean_squared_error: 0.9136 - loss: 0.8360 - regularization_loss: 0.0000e+00 - total_loss: 0.8360\n",
            "Epoch 73/100\n",
            "10/10 [==============================] - 1s 59ms/step - root_mean_squared_error: 0.9135 - loss: 0.8359 - regularization_loss: 0.0000e+00 - total_loss: 0.8359\n",
            "Epoch 74/100\n",
            "10/10 [==============================] - 0s 47ms/step - root_mean_squared_error: 0.9135 - loss: 0.8358 - regularization_loss: 0.0000e+00 - total_loss: 0.8358\n",
            "Epoch 75/100\n",
            "10/10 [==============================] - 0s 49ms/step - root_mean_squared_error: 0.9134 - loss: 0.8357 - regularization_loss: 0.0000e+00 - total_loss: 0.8357\n",
            "Epoch 76/100\n",
            "10/10 [==============================] - 0s 48ms/step - root_mean_squared_error: 0.9133 - loss: 0.8356 - regularization_loss: 0.0000e+00 - total_loss: 0.8356\n",
            "Epoch 77/100\n",
            "10/10 [==============================] - 1s 51ms/step - root_mean_squared_error: 0.9133 - loss: 0.8355 - regularization_loss: 0.0000e+00 - total_loss: 0.8355\n",
            "Epoch 78/100\n",
            "10/10 [==============================] - 0s 47ms/step - root_mean_squared_error: 0.9132 - loss: 0.8353 - regularization_loss: 0.0000e+00 - total_loss: 0.8353\n",
            "Epoch 79/100\n",
            "10/10 [==============================] - 1s 50ms/step - root_mean_squared_error: 0.9131 - loss: 0.8352 - regularization_loss: 0.0000e+00 - total_loss: 0.8352\n",
            "Epoch 80/100\n",
            "10/10 [==============================] - 1s 56ms/step - root_mean_squared_error: 0.9131 - loss: 0.8351 - regularization_loss: 0.0000e+00 - total_loss: 0.8351\n",
            "Epoch 81/100\n",
            "10/10 [==============================] - 1s 56ms/step - root_mean_squared_error: 0.9130 - loss: 0.8350 - regularization_loss: 0.0000e+00 - total_loss: 0.8350\n",
            "Epoch 82/100\n",
            "10/10 [==============================] - 1s 60ms/step - root_mean_squared_error: 0.9130 - loss: 0.8349 - regularization_loss: 0.0000e+00 - total_loss: 0.8349\n",
            "Epoch 83/100\n",
            "10/10 [==============================] - 1s 58ms/step - root_mean_squared_error: 0.9129 - loss: 0.8348 - regularization_loss: 0.0000e+00 - total_loss: 0.8348\n",
            "Epoch 84/100\n",
            "10/10 [==============================] - 1s 52ms/step - root_mean_squared_error: 0.9128 - loss: 0.8347 - regularization_loss: 0.0000e+00 - total_loss: 0.8347\n",
            "Epoch 85/100\n",
            "10/10 [==============================] - 1s 54ms/step - root_mean_squared_error: 0.9128 - loss: 0.8346 - regularization_loss: 0.0000e+00 - total_loss: 0.8346\n",
            "Epoch 86/100\n",
            "10/10 [==============================] - 0s 45ms/step - root_mean_squared_error: 0.9127 - loss: 0.8344 - regularization_loss: 0.0000e+00 - total_loss: 0.8344\n",
            "Epoch 87/100\n",
            "10/10 [==============================] - 1s 56ms/step - root_mean_squared_error: 0.9127 - loss: 0.8343 - regularization_loss: 0.0000e+00 - total_loss: 0.8343\n",
            "Epoch 88/100\n",
            "10/10 [==============================] - 1s 54ms/step - root_mean_squared_error: 0.9126 - loss: 0.8342 - regularization_loss: 0.0000e+00 - total_loss: 0.8342\n",
            "Epoch 89/100\n",
            "10/10 [==============================] - 1s 79ms/step - root_mean_squared_error: 0.9125 - loss: 0.8341 - regularization_loss: 0.0000e+00 - total_loss: 0.8341\n",
            "Epoch 90/100\n",
            "10/10 [==============================] - 1s 76ms/step - root_mean_squared_error: 0.9125 - loss: 0.8340 - regularization_loss: 0.0000e+00 - total_loss: 0.8340\n",
            "Epoch 91/100\n",
            "10/10 [==============================] - 1s 80ms/step - root_mean_squared_error: 0.9124 - loss: 0.8339 - regularization_loss: 0.0000e+00 - total_loss: 0.8339\n",
            "Epoch 92/100\n",
            "10/10 [==============================] - 1s 54ms/step - root_mean_squared_error: 0.9124 - loss: 0.8338 - regularization_loss: 0.0000e+00 - total_loss: 0.8338\n",
            "Epoch 93/100\n",
            "10/10 [==============================] - 1s 50ms/step - root_mean_squared_error: 0.9123 - loss: 0.8337 - regularization_loss: 0.0000e+00 - total_loss: 0.8337\n",
            "Epoch 94/100\n",
            "10/10 [==============================] - 1s 58ms/step - root_mean_squared_error: 0.9122 - loss: 0.8335 - regularization_loss: 0.0000e+00 - total_loss: 0.8335\n",
            "Epoch 95/100\n",
            "10/10 [==============================] - 1s 59ms/step - root_mean_squared_error: 0.9122 - loss: 0.8334 - regularization_loss: 0.0000e+00 - total_loss: 0.8334\n",
            "Epoch 96/100\n",
            "10/10 [==============================] - 1s 54ms/step - root_mean_squared_error: 0.9121 - loss: 0.8333 - regularization_loss: 0.0000e+00 - total_loss: 0.8333\n",
            "Epoch 97/100\n",
            "10/10 [==============================] - 1s 57ms/step - root_mean_squared_error: 0.9120 - loss: 0.8332 - regularization_loss: 0.0000e+00 - total_loss: 0.8332\n",
            "Epoch 98/100\n",
            "10/10 [==============================] - 1s 56ms/step - root_mean_squared_error: 0.9120 - loss: 0.8331 - regularization_loss: 0.0000e+00 - total_loss: 0.8331\n",
            "Epoch 99/100\n",
            "10/10 [==============================] - 1s 50ms/step - root_mean_squared_error: 0.9119 - loss: 0.8330 - regularization_loss: 0.0000e+00 - total_loss: 0.8330\n",
            "Epoch 100/100\n",
            "10/10 [==============================] - 1s 50ms/step - root_mean_squared_error: 0.9118 - loss: 0.8328 - regularization_loss: 0.0000e+00 - total_loss: 0.8328\n"
          ]
        },
        {
          "output_type": "execute_result",
          "data": {
            "text/plain": [
              "<keras.src.callbacks.History at 0x7b8cc625f940>"
            ]
          },
          "metadata": {},
          "execution_count": 13
        }
      ],
      "source": [
        "# Compile the model\n",
        "model.compile(optimizer=tf.keras.optimizers.Adagrad(learning_rate=0.1))\n",
        "\n",
        "# Train the model\n",
        "model.fit(cached_train, epochs=100)\n"
      ]
    },
    {
      "cell_type": "code",
      "execution_count": 14,
      "metadata": {
        "colab": {
          "base_uri": "https://localhost:8080/"
        },
        "id": "hraLwfNt9Vvs",
        "outputId": "413abfd0-e27e-4df8-d064-abfec35cb8ac"
      },
      "outputs": [
        {
          "output_type": "stream",
          "name": "stdout",
          "text": [
            "5/5 [==============================] - 1s 48ms/step - root_mean_squared_error: 0.9449 - loss: 0.8902 - regularization_loss: 0.0000e+00 - total_loss: 0.8902\n"
          ]
        },
        {
          "output_type": "execute_result",
          "data": {
            "text/plain": [
              "{'root_mean_squared_error': 0.9449378848075867,\n",
              " 'loss': 0.8783496022224426,\n",
              " 'regularization_loss': 0,\n",
              " 'total_loss': 0.8783496022224426}"
            ]
          },
          "metadata": {},
          "execution_count": 14
        }
      ],
      "source": [
        "# Evaluate the model\n",
        "model.evaluate(cached_test, return_dict=True)\n"
      ]
    },
    {
      "cell_type": "code",
      "execution_count": null,
      "metadata": {
        "colab": {
          "background_save": true
        },
        "id": "FFanqMtH9eft"
      },
      "outputs": [],
      "source": []
    }
  ],
  "metadata": {
    "colab": {
      "provenance": [],
      "mount_file_id": "11PAeEQks5MhlSduIB-BjG9GgGJiiR-Cc",
      "authorship_tag": "ABX9TyMtZx/gZxwJTQk04z7JXmP7",
      "include_colab_link": true
    },
    "kernelspec": {
      "display_name": "Python 3",
      "name": "python3"
    },
    "language_info": {
      "name": "python"
    }
  },
  "nbformat": 4,
  "nbformat_minor": 0
}